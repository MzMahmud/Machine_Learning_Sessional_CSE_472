{
 "cells": [
  {
   "cell_type": "code",
   "execution_count": 9,
   "metadata": {},
   "outputs": [],
   "source": [
    "from scipy import stats\n",
    "import numpy as np"
   ]
  },
  {
   "cell_type": "code",
   "execution_count": 6,
   "metadata": {},
   "outputs": [],
   "source": [
    "kNN_test_itr_accuracy =  [70.0, 73.33333333333333, 76.66666666666667, 73.33333333333333, 83.33333333333333, 76.66666666666667, 83.33333333333333, 76.66666666666667, 73.33333333333333, 83.33333333333333, 83.33333333333333, 90.0, 73.33333333333333, 80.0, 66.66666666666667, 76.66666666666667, 70.0, 60.0, 80.0, 73.33333333333333, 63.333333333333336, 83.33333333333333, 60.0, 66.66666666666667, 66.66666666666667, 83.33333333333333, 70.0, 73.33333333333333, 76.66666666666667, 80.0, 73.33333333333333, 83.33333333333333, 70.0, 80.0, 63.333333333333336, 76.66666666666667, 70.0, 80.0, 66.66666666666667, 80.0, 76.66666666666667, 63.333333333333336, 86.66666666666667, 83.33333333333333, 83.33333333333333, 76.66666666666667, 56.666666666666664, 73.33333333333333, 66.66666666666667, 83.33333333333333]"
   ]
  },
  {
   "cell_type": "code",
   "execution_count": null,
   "metadata": {},
   "outputs": [],
   "source": []
  },
  {
   "cell_type": "code",
   "execution_count": 35,
   "metadata": {},
   "outputs": [
    {
     "name": "stdout",
     "output_type": "stream",
     "text": [
      "-3.231252665580312 0.004394965993185664\n"
     ]
    }
   ],
   "source": [
    "stat,p_value = stats.ttest_rel(a,b)\n",
    "print(stat,p_value)"
   ]
  }
 ],
 "metadata": {
  "kernelspec": {
   "display_name": "Python 3",
   "language": "python",
   "name": "python3"
  },
  "language_info": {
   "codemirror_mode": {
    "name": "ipython",
    "version": 3
   },
   "file_extension": ".py",
   "mimetype": "text/x-python",
   "name": "python",
   "nbconvert_exporter": "python",
   "pygments_lexer": "ipython3",
   "version": "3.7.4"
  }
 },
 "nbformat": 4,
 "nbformat_minor": 2
}
