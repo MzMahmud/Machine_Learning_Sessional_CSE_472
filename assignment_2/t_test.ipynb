{
 "cells": [
  {
   "cell_type": "code",
   "execution_count": 9,
   "metadata": {},
   "outputs": [],
   "source": [
    "from scipy import stats\n",
    "import numpy as np"
   ]
  },
  {
   "cell_type": "code",
   "execution_count": 31,
   "metadata": {},
   "outputs": [
    {
     "name": "stdout",
     "output_type": "stream",
     "text": [
      "[18 21 16 22 19 24 17 21 23 18 14 16 16 19 18 20 12 22 15 17] [22 25 17 24 16 29 20 23 19 20 15 15 18 26 18 24 18 25 19 16]\n"
     ]
    }
   ],
   "source": [
    "ab = [(18 ,22),\n",
    "(21 ,25),\n",
    "(16 ,17),\n",
    "(22 ,24),\n",
    "(19 ,16),\n",
    "(24 ,29),\n",
    "(17 ,20),\n",
    "(21 ,23),\n",
    "(23 ,19),\n",
    "(18,20),\n",
    "(14,15),\n",
    "(16,15),\n",
    "(16,18),\n",
    "(19,26),\n",
    "(18,18),\n",
    "(20,24),\n",
    "(12,18),\n",
    "(22,25),\n",
    "(15,19),\n",
    "(17,16)]\n",
    "\n",
    "a = np.array([abi[0] for abi in ab])\n",
    "b = np.array([abi[1] for abi in ab])\n",
    "print(a,b)"
   ]
  },
  {
   "cell_type": "code",
   "execution_count": 35,
   "metadata": {},
   "outputs": [
    {
     "name": "stdout",
     "output_type": "stream",
     "text": [
      "-3.231252665580312 0.004394965993185664\n"
     ]
    }
   ],
   "source": [
    "stat,p_value = stats.ttest_rel(a,b)\n",
    "print(stat,p_value)"
   ]
  }
 ],
 "metadata": {
  "kernelspec": {
   "display_name": "Python 3",
   "language": "python",
   "name": "python3"
  },
  "language_info": {
   "codemirror_mode": {
    "name": "ipython",
    "version": 3
   },
   "file_extension": ".py",
   "mimetype": "text/x-python",
   "name": "python",
   "nbconvert_exporter": "python",
   "pygments_lexer": "ipython3",
   "version": "3.7.4"
  }
 },
 "nbformat": 4,
 "nbformat_minor": 2
}
