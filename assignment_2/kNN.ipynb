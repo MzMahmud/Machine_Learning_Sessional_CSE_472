{
 "cells": [
  {
   "cell_type": "code",
   "execution_count": 31,
   "metadata": {},
   "outputs": [],
   "source": [
    "from collections import Counter\n",
    "\n",
    "import numpy as np"
   ]
  },
  {
   "cell_type": "code",
   "execution_count": 62,
   "metadata": {},
   "outputs": [],
   "source": [
    "# test data\n",
    "D = [\n",
    "    [\"play\",\"play\",\"cricket\",\"football\"],\n",
    "    [\"play\",\"music\"],\n",
    "    [\"like\",\"singing\"],\n",
    "    [\"cricket\",\"very\",\"small\",\"insect\"]\n",
    "]\n",
    "\n",
    "d = [\"want\",\"play\",\"cricket\"]"
   ]
  },
  {
   "cell_type": "code",
   "execution_count": 20,
   "metadata": {},
   "outputs": [],
   "source": [
    "def hamming_distance(p1 : Counter,p2 : Counter) -> int:\n",
    "    hd = 0\n",
    "    for xi in (p1 | p2): # xi in (p1 U p2)\n",
    "        if (p1[xi] == 0) or (p2[xi] == 0):\n",
    "            # print(xi)\n",
    "            # as xi in union and not in any one of it its a mismatch\n",
    "            hd += 1\n",
    "    return hd"
   ]
  },
  {
   "cell_type": "code",
   "execution_count": 75,
   "metadata": {},
   "outputs": [],
   "source": [
    "def euclidean_distance(p1 : Counter,p2 : Counter):\n",
    "    ed = 0\n",
    "    for xi in (p1 | p2): # xi in (p1 U p2)\n",
    "        #print(f\"({p1[xi]}-{p2[xi]})**2\",end='+')\n",
    "        ed += (p1[xi] - p2[xi])**2\n",
    "    #print()\n",
    "    #return ed before sqrt: for debug\n",
    "    return np.sqrt(ed)"
   ]
  },
  {
   "cell_type": "code",
   "execution_count": 92,
   "metadata": {},
   "outputs": [
    {
     "name": "stdout",
     "output_type": "stream",
     "text": [
      "[{'play': 0.1505149978319906, 'cricket': 0.0752574989159953, 'football': 0.1505149978319906}, {'play': 0.1505149978319906, 'music': 0.3010299956639812}, {'like': 0.3010299956639812, 'singing': 0.3010299956639812}, {'cricket': 0.0752574989159953, 'very': 0.1505149978319906, 'small': 0.1505149978319906, 'insect': 0.1505149978319906}]\n",
      "{'play': 0.10034333188799373, 'cricket': 0.10034333188799373}\n"
     ]
    }
   ],
   "source": [
    "def get_tf_format(document):\n",
    "    X = dict()\n",
    "    Wd = len(document) # Word count of data\n",
    "    for w,Nw in Counter(document).items():\n",
    "        # print(f\"TF {w} = {Nw}/{Wd}\")\n",
    "        X[w] = Nw/Wd # TF = Nw/Wd \n",
    "    return X\n",
    "\n",
    "\n",
    "def get_idf_format(doc_tf,docs):\n",
    "    X = dict()\n",
    "    eps = 0.000001\n",
    "    n_docs = len(docs) # number of documents\n",
    "    for w in doc_tf:\n",
    "        Cw = 0\n",
    "        for doc_i in docs:\n",
    "            if w in doc_i:\n",
    "                Cw += 1\n",
    "                \n",
    "        if Cw == 0: continue\n",
    "        # new word -> ignore\n",
    "        # print(f\"IDF {w} => new word; ignore\")\n",
    "        \n",
    "        # print(f\"IDF {w} = log({n_docs}/1+{Cw})\") \n",
    "        idf = eps if Cw == n_docs else np.log10(n_docs/Cw) # lecture note: np.log10(n_docs/(1 + Cw)) \n",
    "        X[w] = doc_tf[w] * idf\n",
    "    return X\n",
    "\n",
    "\n",
    "docs_tf = [get_tf_format(doc) for doc in D]\n",
    "docs_tf_idf = [get_idf_format(doc_tf,docs_tf) for doc_tf in docs_tf]\n",
    "print(docs_tf_idf)\n",
    "\n",
    "d_tf_idf = get_idf_format(get_tf_format(d),D)\n",
    "print(d_tf_idf)"
   ]
  },
  {
   "cell_type": "code",
   "execution_count": 93,
   "metadata": {},
   "outputs": [
    {
     "name": "stdout",
     "output_type": "stream",
     "text": [
      "norm({'moaz': 1, 'mahmud': 1}) 1.4142135623730951\n",
      "{'play': 0.10034333188799373, 'cricket': 0.10034333188799373} {'play': 0.1505149978319906, 'cricket': 0.0752574989159953, 'football': 0.1505149978319906}\n",
      "0.1419069008497054 0.2257724967479859\n",
      "0.7071067811865476\n"
     ]
    }
   ],
   "source": [
    "def norm(a):\n",
    "    n = .0\n",
    "    for ai in a.values():\n",
    "        n += ai*ai\n",
    "    return np.sqrt(n)\n",
    "\n",
    "\n",
    "p = dict({'moaz': 1 ,'mahmud': 1})\n",
    "print(f\"norm({p})\",norm(p))\n",
    "\n",
    "\n",
    "def cosine_similarity(p1,p2):\n",
    "    xi_both = set(p1).intersection(set(p2))\n",
    "    dot = .0\n",
    "    for xi in xi_both:\n",
    "        dot += p1[xi]*p2[xi]\n",
    "    return dot/(norm(p1)*norm(p2))\n",
    "\n",
    "print(d_tf_idf,docs_tf_idf[0])\n",
    "print(norm(d_tf_idf),norm(docs_tf_idf[0]))\n",
    "print(cosine_similarity(d_tf_idf,docs_tf_idf[0]))"
   ]
  },
  {
   "cell_type": "code",
   "execution_count": 67,
   "metadata": {},
   "outputs": [],
   "source": [
    "def find_dist(D,d,dist_function):\n",
    "    D = [Counter(di) for di in D]\n",
    "    d  = Counter(d)\n",
    "    i = 1\n",
    "    for di in D:\n",
    "        print(f\"{dist_function.__name__}(t,{i})\", dist_function(d,di))\n",
    "        i += 1\n",
    "        \n",
    "        \n",
    "# find_dist(D,d,hamming_distance)\n",
    "# find_dist(D,d,euclidean_distance)"
   ]
  }
 ],
 "metadata": {
  "kernelspec": {
   "display_name": "Python 3",
   "language": "python",
   "name": "python3"
  },
  "language_info": {
   "codemirror_mode": {
    "name": "ipython",
    "version": 3
   },
   "file_extension": ".py",
   "mimetype": "text/x-python",
   "name": "python",
   "nbconvert_exporter": "python",
   "pygments_lexer": "ipython3",
   "version": "3.7.4"
  }
 },
 "nbformat": 4,
 "nbformat_minor": 2
}
