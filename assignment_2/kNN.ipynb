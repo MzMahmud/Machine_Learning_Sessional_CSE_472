{
 "cells": [
  {
   "cell_type": "code",
   "execution_count": 1,
   "metadata": {},
   "outputs": [],
   "source": [
    "from collections import Counter\n",
    "\n",
    "import os\n",
    "import numpy as np"
   ]
  },
  {
   "cell_type": "code",
   "execution_count": 2,
   "metadata": {},
   "outputs": [],
   "source": [
    "# test data\n",
    "D = [\n",
    "    [\"cricket\",\"very\",\"small\",\"insect\"],\n",
    "    [\"play\",\"music\"],\n",
    "    [\"play\",\"play\",\"cricket\",\"football\"],\n",
    "    [\"like\",\"singing\"]\n",
    "]\n",
    "\n",
    "Y_D = [\"Biology\",\"Music\",\"Sports\",\"Music\"]\n",
    "\n",
    "d = [\"want\",\"play\",\"cricket\"]"
   ]
  },
  {
   "cell_type": "code",
   "execution_count": 3,
   "metadata": {},
   "outputs": [],
   "source": [
    "def hamming_distance(p1 : Counter,p2 : Counter) -> int:\n",
    "    hd = 0\n",
    "    for xi in (p1 | p2): # xi in (p1 U p2)\n",
    "        if (p1[xi] == 0) or (p2[xi] == 0):\n",
    "            # print(xi)\n",
    "            # as xi in union and not in any one of it its a mismatch\n",
    "            hd += 1\n",
    "    return hd"
   ]
  },
  {
   "cell_type": "code",
   "execution_count": 4,
   "metadata": {},
   "outputs": [],
   "source": [
    "def euclidean_distance(p1 : Counter,p2 : Counter):\n",
    "    ed = 0\n",
    "    for xi in (p1 | p2): # xi in (p1 U p2)\n",
    "        #print(f\"({p1[xi]}-{p2[xi]})**2\",end='+')\n",
    "        ed += (p1[xi] - p2[xi])**2\n",
    "    #print()\n",
    "    #return ed before sqrt: for debug\n",
    "    return np.sqrt(ed)"
   ]
  },
  {
   "cell_type": "code",
   "execution_count": 5,
   "metadata": {},
   "outputs": [],
   "source": [
    "def get_tf_format(document):\n",
    "    X = dict()\n",
    "    Wd = len(document) # Word count of data\n",
    "    for w,Nw in Counter(document).items():\n",
    "        # print(f\"TF {w} = {Nw}/{Wd}\")\n",
    "        X[w] = Nw/Wd # TF = Nw/Wd \n",
    "    return X\n",
    "\n",
    "\n",
    "def get_tf_idf_format(doc,docs):\n",
    "    eps = 0.000001\n",
    "    n_docs = len(docs) # number of documents\n",
    "    \n",
    "    doc_tf_idf = get_tf_format(doc)\n",
    "    to_ignore  = []\n",
    "    for w in doc_tf_idf:\n",
    "        Cw = 0\n",
    "        for doc_i in docs:\n",
    "            if w in doc_i:\n",
    "                Cw += 1     \n",
    "        if Cw == 0:\n",
    "            to_ignore.append(w)\n",
    "            # new word -> ignore\n",
    "            # print(f\"IDF {w} => new word; ignore\")\n",
    "        else:\n",
    "            # print(f\"IDF {w} = log({n_docs}/1+{Cw})\") \n",
    "            idf = eps if Cw == n_docs else np.log10(n_docs/Cw) # lecture note: np.log10(n_docs/(1 + Cw)) \n",
    "            doc_tf_idf[w] *= idf\n",
    "    \n",
    "    for w in to_ignore:\n",
    "        doc_tf_idf.pop(w)\n",
    "    \n",
    "    return doc_tf_idf\n",
    "\n",
    "\n",
    "# docs_tf_idf = [get_tf_idf_format(doc,D) for doc in D]\n",
    "# print(docs_tf_idf)\n",
    "\n",
    "# d_tf_idf = get_tf_idf_format(d,D)\n",
    "# print(d_tf_idf)"
   ]
  },
  {
   "cell_type": "code",
   "execution_count": 6,
   "metadata": {},
   "outputs": [],
   "source": [
    "def norm(a):\n",
    "    n = .0\n",
    "    for ai in a.values():\n",
    "        n += ai*ai\n",
    "    return np.sqrt(n)\n",
    "\n",
    "\n",
    "# p = dict({'moaz': 1 ,'mahmud': 1})\n",
    "# print(f\"norm({p})\",norm(p))\n",
    "\n",
    "\n",
    "def cosine_similarity(p1,p2):\n",
    "    xi_both = set(p1).intersection(set(p2))\n",
    "    dot = .0\n",
    "    for xi in xi_both:\n",
    "        dot += p1[xi]*p2[xi]\n",
    "    return dot/(norm(p1)*norm(p2))"
   ]
  },
  {
   "cell_type": "code",
   "execution_count": 7,
   "metadata": {},
   "outputs": [],
   "source": [
    "def find_dist(D,d,dist_function):\n",
    "    if dist_function == cosine_similarity:\n",
    "        docs = [get_tf_idf_format(doc,D) for doc in D]\n",
    "        test_doc = get_tf_idf_format(d,D)\n",
    "    else:\n",
    "        docs = [Counter(di) for di in D]\n",
    "        test_doc  = Counter(d)\n",
    "    i = 1\n",
    "    for doc in docs:\n",
    "        print(f\"{dist_function.__name__}(t,{i})\", dist_function(test_doc,doc))\n",
    "        i += 1\n",
    "        \n",
    "        \n",
    "# find_dist(D,d,hamming_distance)\n",
    "# find_dist(D,d,euclidean_distance)\n",
    "# find_dist(D,d,cosine_similarity)"
   ]
  },
  {
   "cell_type": "code",
   "execution_count": 8,
   "metadata": {},
   "outputs": [],
   "source": [
    "def kNN_predict(X_train,Y_train,X_test,k=3,distance_function=cosine_similarity):\n",
    "    neighbors_class_dist = []\n",
    "    for data,cls in zip(X_train,Y_train):\n",
    "        dist = distance_function(X_test,data)\n",
    "        neighbors_class_dist.append((cls,dist))\n",
    "    # print(\"unsorted\",neighbors_class_dist)\n",
    "    \n",
    "    neighbors_class_dist.sort(\n",
    "        key=lambda class_dist: class_dist[1],\n",
    "        reverse=(distance_function == cosine_similarity) \n",
    "        # if dist function = cos similarity we have to sort in decending order\n",
    "    )\n",
    "    # print(\"sorted\",neighbors_class_dist)\n",
    "    \n",
    "    kNN_class_dist = neighbors_class_dist[:k]\n",
    "    # print(\"kNN_class_dist\",kNN_class_dist)\n",
    "    \n",
    "    votes = dict()\n",
    "    for cls,dist in kNN_class_dist:\n",
    "        # unweighted voting\n",
    "        votes[cls] = votes.get(cls,0) + 1\n",
    "    # print(votes)\n",
    "    \n",
    "    max_vote_class = max(votes,key=lambda class_vote: class_vote[1])\n",
    "    #print(\"max_vote_class\",max_vote_class)\n",
    "    \n",
    "    return max_vote_class\n",
    "\n",
    "\n",
    "# print(D,Y_D,d)\n",
    "# kNN_predict(D,Y_D,d,k=4,distance_function=hamming_distance)\n",
    "# kNN_predict(D,Y_D,d,k=4,distance_function=euclidean_distance)        \n",
    "# kNN_predict(D,Y_D,d,k=4,distance_function=cosine_similarity)\n",
    "# kNN_predict(D,Y_D,d)"
   ]
  },
  {
   "cell_type": "code",
   "execution_count": 17,
   "metadata": {},
   "outputs": [],
   "source": [
    "def performance_evaluation(X_train, Y_train, X_test, Y_test, k=3,distance_function=cosine_similarity):\n",
    "    # get the proper input format for distance function\n",
    "    if distance_function == cosine_similarity:\n",
    "        X_train_tf_idf = [get_tf_idf_format(doc,X_train) for doc in X_train]\n",
    "        X_test         = [get_tf_idf_format(doc,X_train) for doc in X_test ]\n",
    "        X_train        = X_train_tf_idf\n",
    "    else:\n",
    "        X_train = [Counter(data) for data in X_train]\n",
    "        X_test  = [Counter(data) for data in X_test ]\n",
    "    # print(X_train,\"\\n\",X_test)\n",
    "    \n",
    "    print(f\"---k={k}---{distance_function.__name__}---\")\n",
    "    total,correct,cur = len(X_test),0,0\n",
    "    interval = max(total//10,1)\n",
    "    for doc,actual_class in zip(X_test, Y_test):\n",
    "        prediction = kNN_predict(X_train, Y_train,doc,k,distance_function)\n",
    "        if prediction == actual_class:\n",
    "            correct += 1\n",
    "        cur += 1\n",
    "        if cur % interval == 0:\n",
    "            print(f\"Completed: {cur*100/total:.1f}%\")\n",
    "    print( \"--------------------\")\n",
    "    print(f\"Correct : {correct}\")\n",
    "    print(f\"Total   : {total}\")\n",
    "    print(f\"Accuracy: {(correct*100)/(total):.2f}%\")\n",
    "    print( \"--------------------\")"
   ]
  },
  {
   "cell_type": "code",
   "execution_count": 10,
   "metadata": {},
   "outputs": [],
   "source": [
    "def get_X_Y_from(file):\n",
    "    with open(file, 'r',encoding='utf16') as f:\n",
    "        docs = [line.split() for line in f.readlines()]\n",
    "    X = [doc[:-1] for doc in docs]\n",
    "    Y = [doc[-1]  for doc in docs]\n",
    "    return X,Y"
   ]
  },
  {
   "cell_type": "code",
   "execution_count": 11,
   "metadata": {},
   "outputs": [],
   "source": [
    "# paths\n",
    "train_input_file = os.path.join(os.getcwd(),\"train.in\")\n",
    "validation_input_file = os.path.join(os.getcwd(),\"validation.in\")\n",
    "test_input_file = os.path.join(os.getcwd(),\"test.in\")"
   ]
  },
  {
   "cell_type": "code",
   "execution_count": 21,
   "metadata": {},
   "outputs": [
    {
     "name": "stdout",
     "output_type": "stream",
     "text": [
      "1500 1500\n",
      "300 300\n"
     ]
    }
   ],
   "source": [
    "# get data\n",
    "X_train,Y_train = get_X_Y_from(train_input_file)\n",
    "print(len(X_train),len(Y_train))\n",
    "\n",
    "X_test,Y_test = get_X_Y_from(test_input_file)\n",
    "print(len(X_test),len(Y_test))"
   ]
  },
  {
   "cell_type": "code",
   "execution_count": 22,
   "metadata": {},
   "outputs": [
    {
     "name": "stdout",
     "output_type": "stream",
     "text": [
      "---k=3---hamming_distance---\n",
      "Completed: 10.0%\n",
      "Completed: 20.0%\n",
      "Completed: 30.0%\n",
      "Completed: 40.0%\n",
      "Completed: 50.0%\n",
      "Completed: 60.0%\n",
      "Completed: 70.0%\n",
      "Completed: 80.0%\n",
      "Completed: 90.0%\n",
      "Completed: 100.0%\n",
      "--------------------\n",
      "Correct : 205\n",
      "Total   : 300\n",
      "Accuracy: 68.33%\n",
      "--------------------\n"
     ]
    }
   ],
   "source": [
    "performance_evaluation(X_train,Y_train,X_test,Y_test, k=3,distance_function=hamming_distance)"
   ]
  },
  {
   "cell_type": "code",
   "execution_count": 23,
   "metadata": {},
   "outputs": [
    {
     "name": "stdout",
     "output_type": "stream",
     "text": [
      "---k=3---euclidean_distance---\n",
      "Completed: 10.0%\n",
      "Completed: 20.0%\n",
      "Completed: 30.0%\n",
      "Completed: 40.0%\n",
      "Completed: 50.0%\n",
      "Completed: 60.0%\n",
      "Completed: 70.0%\n",
      "Completed: 80.0%\n",
      "Completed: 90.0%\n",
      "Completed: 100.0%\n",
      "--------------------\n",
      "Correct : 225\n",
      "Total   : 300\n",
      "Accuracy: 75.00%\n",
      "--------------------\n"
     ]
    }
   ],
   "source": [
    "performance_evaluation(X_train,Y_train,X_test,Y_test, k=3,distance_function=euclidean_distance)"
   ]
  },
  {
   "cell_type": "code",
   "execution_count": 24,
   "metadata": {},
   "outputs": [
    {
     "name": "stdout",
     "output_type": "stream",
     "text": [
      "---k=3---cosine_similarity---\n",
      "Completed: 10.0%\n",
      "Completed: 20.0%\n",
      "Completed: 30.0%\n",
      "Completed: 40.0%\n",
      "Completed: 50.0%\n",
      "Completed: 60.0%\n",
      "Completed: 70.0%\n",
      "Completed: 80.0%\n",
      "Completed: 90.0%\n",
      "Completed: 100.0%\n",
      "--------------------\n",
      "Correct : 275\n",
      "Total   : 300\n",
      "Accuracy: 91.67%\n",
      "--------------------\n"
     ]
    }
   ],
   "source": [
    "performance_evaluation(X_train,Y_train,X_test,Y_test, k=3,distance_function=cosine_similarity)"
   ]
  }
 ],
 "metadata": {
  "kernelspec": {
   "display_name": "Python 3",
   "language": "python",
   "name": "python3"
  },
  "language_info": {
   "codemirror_mode": {
    "name": "ipython",
    "version": 3
   },
   "file_extension": ".py",
   "mimetype": "text/x-python",
   "name": "python",
   "nbconvert_exporter": "python",
   "pygments_lexer": "ipython3",
   "version": "3.7.4"
  }
 },
 "nbformat": 4,
 "nbformat_minor": 2
}
