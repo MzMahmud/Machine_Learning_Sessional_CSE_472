{
 "cells": [
  {
   "cell_type": "code",
   "execution_count": 134,
   "metadata": {},
   "outputs": [],
   "source": [
    "from collections import Counter\n",
    "\n",
    "import numpy as np"
   ]
  },
  {
   "cell_type": "code",
   "execution_count": 135,
   "metadata": {},
   "outputs": [],
   "source": [
    "# test data\n",
    "D = [\n",
    "    [\"play\",\"play\",\"cricket\",\"football\"],\n",
    "    [\"play\",\"music\"],\n",
    "    [\"like\",\"singing\"],\n",
    "    [\"cricket\",\"very\",\"small\",\"insect\"]\n",
    "]\n",
    "\n",
    "d = [\"want\",\"play\",\"cricket\"]"
   ]
  },
  {
   "cell_type": "code",
   "execution_count": 136,
   "metadata": {},
   "outputs": [],
   "source": [
    "def hamming_distance(p1 : Counter,p2 : Counter) -> int:\n",
    "    hd = 0\n",
    "    for xi in (p1 | p2): # xi in (p1 U p2)\n",
    "        if (p1[xi] == 0) or (p2[xi] == 0):\n",
    "            # print(xi)\n",
    "            # as xi in union and not in any one of it its a mismatch\n",
    "            hd += 1\n",
    "    return hd"
   ]
  },
  {
   "cell_type": "code",
   "execution_count": 137,
   "metadata": {},
   "outputs": [],
   "source": [
    "def euclidean_distance(p1 : Counter,p2 : Counter):\n",
    "    ed = 0\n",
    "    for xi in (p1 | p2): # xi in (p1 U p2)\n",
    "        #print(f\"({p1[xi]}-{p2[xi]})**2\",end='+')\n",
    "        ed += (p1[xi] - p2[xi])**2\n",
    "    #print()\n",
    "    #return ed before sqrt: for debug\n",
    "    return np.sqrt(ed)"
   ]
  },
  {
   "cell_type": "code",
   "execution_count": 150,
   "metadata": {},
   "outputs": [
    {
     "name": "stdout",
     "output_type": "stream",
     "text": [
      "[{'play': 0.1505149978319906, 'cricket': 0.0752574989159953, 'football': 0.1505149978319906}, {'play': 0.1505149978319906, 'music': 0.3010299956639812}, {'like': 0.3010299956639812, 'singing': 0.3010299956639812}, {'cricket': 0.0752574989159953, 'very': 0.1505149978319906, 'small': 0.1505149978319906, 'insect': 0.1505149978319906}]\n",
      "{'play': 0.10034333188799373, 'cricket': 0.10034333188799373}\n"
     ]
    }
   ],
   "source": [
    "def get_tf_format(document):\n",
    "    X = dict()\n",
    "    Wd = len(document) # Word count of data\n",
    "    for w,Nw in Counter(document).items():\n",
    "        # print(f\"TF {w} = {Nw}/{Wd}\")\n",
    "        X[w] = Nw/Wd # TF = Nw/Wd \n",
    "    return X\n",
    "\n",
    "\n",
    "def get_tf_idf_format(doc,docs):\n",
    "    eps = 0.000001\n",
    "    n_docs = len(docs) # number of documents\n",
    "    \n",
    "    doc_tf_idf = get_tf_format(doc)\n",
    "    to_ignore  = []\n",
    "    for w in doc_tf_idf:\n",
    "        Cw = 0\n",
    "        for doc_i in docs:\n",
    "            if w in doc_i:\n",
    "                Cw += 1     \n",
    "        if Cw == 0:\n",
    "            to_ignore.append(w)\n",
    "            # new word -> ignore\n",
    "            # print(f\"IDF {w} => new word; ignore\")\n",
    "        else:\n",
    "            # print(f\"IDF {w} = log({n_docs}/1+{Cw})\") \n",
    "            idf = eps if Cw == n_docs else np.log10(n_docs/Cw) # lecture note: np.log10(n_docs/(1 + Cw)) \n",
    "            doc_tf_idf[w] *= idf\n",
    "    \n",
    "    for w in to_ignore:\n",
    "        doc_tf_idf.pop(w)\n",
    "    \n",
    "    return doc_tf_idf\n",
    "\n",
    "\n",
    "docs_tf_idf = [get_tf_idf_format(doc,D) for doc in D]\n",
    "print(docs_tf_idf)\n",
    "\n",
    "d_tf_idf = get_tf_idf_format(d,D)\n",
    "print(d_tf_idf)"
   ]
  },
  {
   "cell_type": "code",
   "execution_count": 139,
   "metadata": {},
   "outputs": [],
   "source": [
    "def norm(a):\n",
    "    n = .0\n",
    "    for ai in a.values():\n",
    "        n += ai*ai\n",
    "    return np.sqrt(n)\n",
    "\n",
    "\n",
    "# p = dict({'moaz': 1 ,'mahmud': 1})\n",
    "# print(f\"norm({p})\",norm(p))\n",
    "\n",
    "\n",
    "def cosine_similarity(p1,p2):\n",
    "    xi_both = set(p1).intersection(set(p2))\n",
    "    dot = .0\n",
    "    for xi in xi_both:\n",
    "        dot += p1[xi]*p2[xi]\n",
    "    return dot/(norm(p1)*norm(p2))"
   ]
  },
  {
   "cell_type": "code",
   "execution_count": 151,
   "metadata": {},
   "outputs": [
    {
     "name": "stdout",
     "output_type": "stream",
     "text": [
      "hamming_distance(t,1) 2\n",
      "hamming_distance(t,2) 3\n",
      "hamming_distance(t,3) 5\n",
      "hamming_distance(t,4) 5\n",
      "euclidean_distance(t,1) 1.7320508075688772\n",
      "euclidean_distance(t,2) 1.7320508075688772\n",
      "euclidean_distance(t,3) 2.23606797749979\n",
      "euclidean_distance(t,4) 2.23606797749979\n",
      "cosine_similarity(t,1) 0.7071067811865476\n",
      "cosine_similarity(t,2) 0.3162277660168379\n",
      "cosine_similarity(t,3) 0.0\n",
      "cosine_similarity(t,4) 0.19611613513818404\n"
     ]
    }
   ],
   "source": [
    "def find_dist(D,d,dist_function):\n",
    "    if dist_function == cosine_similarity:\n",
    "        docs = [get_tf_idf_format(doc,D) for doc in D]\n",
    "        test_doc = get_tf_idf_format(d,D)\n",
    "    else:\n",
    "        docs = [Counter(di) for di in D]\n",
    "        test_doc  = Counter(d)\n",
    "    i = 1\n",
    "    for doc in docs:\n",
    "        print(f\"{dist_function.__name__}(t,{i})\", dist_function(test_doc,doc))\n",
    "        i += 1\n",
    "        \n",
    "        \n",
    "find_dist(D,d,hamming_distance)\n",
    "find_dist(D,d,euclidean_distance)\n",
    "find_dist(D,d,cosine_similarity)"
   ]
  }
 ],
 "metadata": {
  "kernelspec": {
   "display_name": "Python 3",
   "language": "python",
   "name": "python3"
  },
  "language_info": {
   "codemirror_mode": {
    "name": "ipython",
    "version": 3
   },
   "file_extension": ".py",
   "mimetype": "text/x-python",
   "name": "python",
   "nbconvert_exporter": "python",
   "pygments_lexer": "ipython3",
   "version": "3.7.4"
  }
 },
 "nbformat": 4,
 "nbformat_minor": 2
}
