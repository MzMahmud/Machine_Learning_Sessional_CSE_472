{
 "cells": [
  {
   "cell_type": "code",
   "execution_count": 1,
   "metadata": {},
   "outputs": [],
   "source": [
    "from collections import Counter\n",
    "\n",
    "import os\n",
    "import numpy as np"
   ]
  },
  {
   "cell_type": "code",
   "execution_count": 2,
   "metadata": {},
   "outputs": [],
   "source": [
    "def get_X_Y_from(file):\n",
    "    with open(file, 'r',encoding='utf16') as f:\n",
    "        docs = [line.split() for line in f.readlines()]\n",
    "    X = [doc[:-1] for doc in docs]\n",
    "    Y = [doc[-1]  for doc in docs]\n",
    "    return X,Y"
   ]
  },
  {
   "cell_type": "code",
   "execution_count": 32,
   "metadata": {},
   "outputs": [
    {
     "name": "stdout",
     "output_type": "stream",
     "text": [
      "{'singing', 'live', 'very', 'music', 'small', 'like', 'football', 'insect', 'play', 'cricket'}\n"
     ]
    }
   ],
   "source": [
    "# paths\n",
    "# train_input_file = os.path.join(os.getcwd(),\"train.in\")\n",
    "# validation_input_file = os.path.join(os.getcwd(),\"validation.in\")\n",
    "# train_file = os.path.join(os.getcwd(),\"small.in\")\n",
    "# X_train,Y_train = get_X_Y_from(train_file)\n",
    "# # print(test_X,test_Y)\n",
    "# test data\n",
    "X_train = [\n",
    "    [\"cricket\",\"very\",\"small\",\"insect\"],\n",
    "    [\"play\",\"music\"],\n",
    "    [\"play\",\"play\",\"cricket\",\"football\"],\n",
    "    [\"like\",\"singing\"],\n",
    "    [\"insect\",\"small\",\"live\"]\n",
    "]\n",
    "\n",
    "Y_train = [\"Biology\",\"Music\",\"Sports\",\"Music\",\"Biology\"]\n",
    "\n",
    "X_test = [[\"want\",\"play\",\"cricket\"]]\n",
    "Y_test = [\"Sports\"]\n",
    "\n",
    "\n",
    "# set comprehention to find unique words\n",
    "unique_words = {word for doc in X_train for word in doc}\n",
    "print(unique_words)"
   ]
  },
  {
   "cell_type": "code",
   "execution_count": 55,
   "metadata": {},
   "outputs": [
    {
     "data": {
      "text/plain": [
       "{'Biology': ClassWordCounter(2,7,Counter({'small': 2, 'insect': 2, 'cricket': 1, 'very': 1, 'live': 1})),\n",
       " 'Music': ClassWordCounter(2,4,Counter({'play': 1, 'music': 1, 'like': 1, 'singing': 1})),\n",
       " 'Sports': ClassWordCounter(1,4,Counter({'play': 2, 'cricket': 1, 'football': 1}))}"
      ]
     },
     "execution_count": 55,
     "metadata": {},
     "output_type": "execute_result"
    }
   ],
   "source": [
    "class ClassWordCounter:\n",
    "    def __init__(self,n_docs,n_words,word_counter):\n",
    "        self.n_docs       = n_docs\n",
    "        self.n_words      = n_words\n",
    "        self.word_counter = word_counter \n",
    "        \n",
    "        \n",
    "    def __str__(self):\n",
    "        return f\"n_docs: {self.n_docs}\\nn_words: {self.n_words}\\nword_counter: {self.word_counter}\"\n",
    "    \n",
    "    def __repr__(self):\n",
    "        return f\"ClassWordCounter({self.n_docs},{self.n_words},{self.word_counter})\"\n",
    "    \n",
    "    \n",
    "    \n",
    "def get_class_word_counters(X_train,Y_train) -> ClassWordCounter:\n",
    "    class_word_counters = dict()\n",
    "    for cls,doc in zip(Y_train,X_train):\n",
    "        if cls not in class_word_counters:\n",
    "            class_word_counters[cls] = ClassWordCounter(0,0,Counter())\n",
    "        class_word_counters[cls].n_docs += 1\n",
    "        class_word_counters[cls].n_words += len(doc)\n",
    "        class_word_counters[cls].word_counter += Counter(doc)\n",
    "    # print(class_word_counters)\n",
    "    return class_word_counters\n",
    "\n",
    "\n",
    "class_word_counters = get_class_word_counters(X_train,Y_train)\n",
    "class_word_counters"
   ]
  },
  {
   "cell_type": "code",
   "execution_count": 56,
   "metadata": {},
   "outputs": [
    {
     "name": "stdout",
     "output_type": "stream",
     "text": [
      "['want', 'play', 'cricket']\n",
      "P(want|Biology) *= (0 + 1)/(7 + 1*10)\n",
      "P(want|Music) *= (0 + 1)/(4 + 1*10)\n",
      "P(want|Sports) *= (0 + 1)/(4 + 1*10)\n",
      "P(play|Biology) *= (0 + 1)/(7 + 1*10)\n",
      "P(play|Music) *= (1 + 1)/(4 + 1*10)\n",
      "P(play|Sports) *= (2 + 1)/(4 + 1*10)\n",
      "P(cricket|Biology) *= (1 + 1)/(7 + 1*10)\n",
      "P(cricket|Music) *= (0 + 1)/(4 + 1*10)\n",
      "P(cricket|Sports) *= (1 + 1)/(4 + 1*10)\n",
      "Probabilities:  {'Biology': 0.00016283329940972927, 'Music': 0.0002915451895043731, 'Sports': 0.0004373177842565597}\n"
     ]
    },
    {
     "data": {
      "text/plain": [
       "'Sports'"
      ]
     },
     "execution_count": 56,
     "metadata": {},
     "output_type": "execute_result"
    }
   ],
   "source": [
    "def naive_bayes_predict(document,class_word_counters,n_docs,n_unique_words,alpha):\n",
    "    print(document)\n",
    "    probabilities = dict()\n",
    "    for word in document:\n",
    "        for cls,class_word_counter in class_word_counters.items():\n",
    "            if cls not in probabilities:\n",
    "                # print(f\"prior {cls}: P({cls}) = {class_word_counter.n_docs}/{n_docs}\")\n",
    "                # prior: P(cls)\n",
    "                probabilities[cls] = class_word_counter.n_docs/n_docs\n",
    "    \n",
    "            n_word_cls = class_word_counter.word_counter[word]\n",
    "            n_cls      = class_word_counter.n_words\n",
    "            \n",
    "            # zero problem\n",
    "            # print(f\"P({word}|{cls}) *= {n_word_cls}/{n_cls}\")\n",
    "            \n",
    "            # with smoothin factor\n",
    "            print(f\"P({word}|{cls}) *= ({n_word_cls} + {alpha})/({n_cls} + {alpha}*{n_unique_words})\")\n",
    "            probabilities[cls] *= ((n_word_cls + alpha)/(n_cls + (alpha * n_unique_words)))\n",
    "    \n",
    "    print(\"Probabilities: \",probabilities)\n",
    "    prediction = max(probabilities,key=lambda key: probabilities[key])\n",
    "    return prediction\n",
    "\n",
    "\n",
    "n_docs = len(X_train)\n",
    "n_unique_words = len(unique_words)\n",
    "document = X_test[0]\n",
    "naive_bayes_predict(document,class_word_counters,n_docs,n_unique_words,1)"
   ]
  }
 ],
 "metadata": {
  "kernelspec": {
   "display_name": "Python 3",
   "language": "python",
   "name": "python3"
  },
  "language_info": {
   "codemirror_mode": {
    "name": "ipython",
    "version": 3
   },
   "file_extension": ".py",
   "mimetype": "text/x-python",
   "name": "python",
   "nbconvert_exporter": "python",
   "pygments_lexer": "ipython3",
   "version": "3.7.4"
  }
 },
 "nbformat": 4,
 "nbformat_minor": 2
}
